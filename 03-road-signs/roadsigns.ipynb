{
 "cells": [
  {
   "cell_type": "markdown",
   "metadata": {
    "colab_type": "text",
    "id": "EAQoosm5LEb8"
   },
   "source": [
    "# SAME Roadsigns Demo!"
   ]
  },
  {
   "cell_type": "markdown",
   "metadata": {},
   "source": [
    "## Fetching roadsigns data"
   ]
  },
  {
   "cell_type": "code",
   "execution_count": 1,
   "metadata": {
    "tags": [
     "imports"
    ]
   },
   "outputs": [],
   "source": [
    "import pickle\n",
    "import os"
   ]
  },
  {
   "cell_type": "code",
   "execution_count": 2,
   "metadata": {},
   "outputs": [
    {
     "data": {
      "text/plain": [
       "0"
      ]
     },
     "execution_count": 2,
     "metadata": {},
     "output_type": "execute_result"
    }
   ],
   "source": [
    "os.system(\"\"\"\n",
    "curl -s -o signnames.csv \\\n",
    "  https://raw.githubusercontent.com/SAME-Project/SAME-samples/e0eaeb66cb7eac0a52025624bc1f1fe9392cc1b1/03-road-signs/signnames.csv\n",
    "\"\"\")"
   ]
  },
  {
   "cell_type": "code",
   "execution_count": 3,
   "metadata": {
    "tags": [
     "same_step_1"
    ]
   },
   "outputs": [],
   "source": [
    "# Convert signnames from csv to json\n",
    "import csv, json, os\n",
    "\n",
    "jsonFileName = 'classes.json'\n",
    "csvFileName = 'signnames.csv'\n",
    "csvFile = open(csvFileName, 'r')\n",
    "\n",
    "data = {}\n",
    "\n",
    "reader = csv.DictReader(csvFile)\n",
    "for row in reader:\n",
    "    id = row['ClassId']\n",
    "    data[id] = row['SignName']\n",
    "\n",
    "if os.path.exists(jsonFileName):\n",
    "  os.remove(jsonFileName)\n",
    "\n",
    "with open(jsonFileName, 'w') as jsonFile:\n",
    "    jsonFile.write(json.dumps(data, indent = 4))"
   ]
  },
  {
   "cell_type": "code",
   "execution_count": 4,
   "metadata": {},
   "outputs": [
    {
     "data": {
      "text/plain": [
       "0"
      ]
     },
     "execution_count": 4,
     "metadata": {},
     "output_type": "execute_result"
    }
   ],
   "source": [
    "os.system(\"\"\"\n",
    "DATAFILE=\"https://d17h27t6h515a5.cloudfront.net/topher/2017/February/5898cd6f_traffic-signs-data/traffic-signs-data.zip\"\n",
    "if [ -d \"/tmp/traffic-signs-data\" ]; then\n",
    "    echo \"Data already downloaded\"\n",
    "else\n",
    "    echo \"Downloading data from $DATAFILE\"\n",
    "    mkdir /tmp/traffic-signs-data\n",
    "    curl -s -o /tmp/traffic-signs-data/traffic-signs-data.zip $DATAFILE\n",
    "    (cd /tmp/traffic-signs-data && unzip traffic-signs-data.zip && rm -f traffic-signs-data.zip)\n",
    "    (mv /tmp/traffic-signs-data/* .)\n",
    "fi\n",
    "\"\"\")"
   ]
  },
  {
   "cell_type": "code",
   "execution_count": 5,
   "metadata": {
    "colab": {
     "base_uri": "https://localhost:8080/",
     "height": 34
    },
    "colab_type": "code",
    "id": "9lqdQLFrLEb9",
    "outputId": "3792dc60-34ef-4cf5-e2e9-0ff1c08f6a1d",
    "tags": [
     "same_step_2"
    ]
   },
   "outputs": [],
   "source": [
    "import numpy as np\n",
    "import pandas as pd\n",
    "import pickle\n",
    "import os\n",
    "import cv2\n",
    "import random\n",
    "import skimage.morphology as morp\n",
    "from skimage.filters import rank\n",
    "import matplotlib.pyplot as plt\n",
    "import tensorflow as tf\n",
    "import logging\n",
    "logging.getLogger('tensorflow').disabled = True"
   ]
  },
  {
   "cell_type": "code",
   "execution_count": 6,
   "metadata": {
    "colab": {},
    "colab_type": "code",
    "id": "d6-u3iChLEcD"
   },
   "outputs": [],
   "source": [
    "train = pickle.load(open(\"train.p\",\"rb\"))\n",
    "valid = pickle.load(open(\"valid.p\",\"rb\"))\n",
    "test = pickle.load(open(\"test.p\",\"rb\"))"
   ]
  },
  {
   "cell_type": "code",
   "execution_count": 7,
   "metadata": {
    "colab": {
     "base_uri": "https://localhost:8080/",
     "height": 34
    },
    "colab_type": "code",
    "id": "uHDK8qpJLEcF",
    "outputId": "6504df24-3fee-493f-dd48-e4db42e0c604"
   },
   "outputs": [],
   "source": [
    "import csv\n",
    "# Mapping ClassID to traffic sign names\n",
    "signs = []\n",
    "with open('signnames.csv', 'r') as csvfile:\n",
    "    signnames = csv.reader(csvfile, delimiter=',')\n",
    "    next(signnames,None)\n",
    "    for row in signnames:\n",
    "        signs.append(row[1])\n",
    "    csvfile.close()"
   ]
  },
  {
   "cell_type": "code",
   "execution_count": 8,
   "metadata": {
    "colab": {
     "base_uri": "https://localhost:8080/",
     "height": 102
    },
    "colab_type": "code",
    "id": "1PaeZQvnLEcJ",
    "outputId": "c8d063dc-8531-4d69-da2b-4168b67258f8",
    "tags": [
     "same_step_3"
    ]
   },
   "outputs": [
    {
     "name": "stdout",
     "output_type": "stream",
     "text": [
      "Number of training examples:  34799\n",
      "Number of testing examples:  12630\n",
      "Number of validation examples:  4410\n",
      "Image data shape = (32, 32, 3)\n",
      "Number of classes = 43\n"
     ]
    }
   ],
   "source": [
    "X_train, y_train = train['features'], train['labels']\n",
    "X_valid, y_valid = valid['features'], valid['labels']\n",
    "X_test, y_test = test['features'], test['labels']\n",
    "\n",
    "# Number of training examples\n",
    "n_train = X_train.shape[0]\n",
    "\n",
    "# Number of testing examples\n",
    "n_test = X_test.shape[0]\n",
    "\n",
    "# Number of validation examples.\n",
    "n_validation = X_valid.shape[0]\n",
    "\n",
    "# What's the shape of an traffic sign image?\n",
    "image_shape = X_train[0].shape\n",
    "\n",
    "# How many unique classes/labels there are in the dataset.\n",
    "n_classes = len(np.unique(y_train))\n",
    "\n",
    "print(\"Number of training examples: \", n_train)\n",
    "print(\"Number of testing examples: \", n_test)\n",
    "print(\"Number of validation examples: \", n_validation)\n",
    "print(\"Image data shape =\", image_shape)\n",
    "print(\"Number of classes =\", n_classes)"
   ]
  },
  {
   "cell_type": "code",
   "execution_count": 9,
   "metadata": {
    "colab": {
     "base_uri": "https://localhost:8080/",
     "height": 34
    },
    "colab_type": "code",
    "id": "W8LLewhLLEcL",
    "outputId": "5260c4af-4901-48fc-e6ad-0ec291e410ad"
   },
   "outputs": [
    {
     "data": {
      "text/plain": [
       "(32, 32, 3)"
      ]
     },
     "execution_count": 9,
     "metadata": {},
     "output_type": "execute_result"
    }
   ],
   "source": [
    "X_train[0].shape"
   ]
  },
  {
   "cell_type": "markdown",
   "metadata": {
    "colab_type": "text",
    "id": "HA_hpKhSLEcO",
    "tags": [
     "same_step_4"
    ]
   },
   "source": [
    "# Preprocess data"
   ]
  },
  {
   "cell_type": "code",
   "execution_count": 10,
   "metadata": {
    "colab": {},
    "colab_type": "code",
    "id": "g0WXq0oHLEcP"
   },
   "outputs": [],
   "source": [
    "# define helper functions\n",
    "def list_images(dataset, dataset_y, ylabel=\"\", cmap=None):\n",
    "    \"\"\"\n",
    "    Display a list of images in a single figure with matplotlib.\n",
    "        Parameters:\n",
    "            images: An np.array compatible with plt.imshow.\n",
    "            lanel (Default = No label): A string to be used as a label for each image.\n",
    "            cmap (Default = None): Used to display gray images.\n",
    "    \"\"\"\n",
    "    plt.figure(figsize=(15, 16))\n",
    "    for i in range(6):\n",
    "        plt.subplot(1, 6, i+1)\n",
    "        indx = random.randint(0, len(dataset))\n",
    "        #Use gray scale color map if there is only one channel\n",
    "        cmap = 'gray' if len(dataset[indx].shape) == 2 else cmap\n",
    "        plt.imshow(dataset[indx], cmap = cmap)\n",
    "        plt.xlabel(signs[dataset_y[indx]])\n",
    "        plt.ylabel(ylabel)\n",
    "        plt.xticks([])\n",
    "        plt.yticks([])\n",
    "    plt.tight_layout(pad=0, h_pad=0, w_pad=0)\n",
    "    plt.show()\n",
    "    \n",
    "def histogram_plot(dataset, label):\n",
    "    \"\"\"\n",
    "    Plots a histogram of the input data.\n",
    "        Parameters:\n",
    "            dataset: Input data to be plotted as a histogram.\n",
    "            lanel: A string to be used as a label for the histogram.\n",
    "    \"\"\"\n",
    "    hist, bins = np.histogram(dataset, bins=n_classes)\n",
    "    width = 0.7 * (bins[1] - bins[0])\n",
    "    center = (bins[:-1] + bins[1:]) / 2\n",
    "    plt.bar(center, hist, align='center', width=width)\n",
    "    plt.xlabel(label)\n",
    "    plt.ylabel(\"Image count\")\n",
    "    plt.show()\n",
    "    \n",
    "\n",
    "def preprocess(data):\n",
    "    \"\"\"\n",
    "    Applying the preprocessing steps to the input data.\n",
    "        Parameters:\n",
    "            data: An np.array compatible with plt.imshow.\n",
    "    \"\"\"\n",
    "\n",
    "    # define these inline to workaround issue with SAME...\n",
    "    def gray_scale(image):\n",
    "        \"\"\"\n",
    "        Convert images to gray scale.\n",
    "            Parameters:\n",
    "                image: An np.array compatible with plt.imshow.\n",
    "        \"\"\"\n",
    "        # workaround another weird SAME bug\n",
    "        import cv2\n",
    "        return cv2.cvtColor(image, cv2.COLOR_RGB2GRAY)\n",
    "\n",
    "    def local_histo_equalize(image):\n",
    "        \"\"\"\n",
    "        Apply local histogram equalization to grayscale images.\n",
    "            Parameters:\n",
    "                image: A grayscale image.\n",
    "        \"\"\"\n",
    "        # workaround another weird SAME bug\n",
    "        import skimage.morphology as morp\n",
    "        from skimage.filters import rank\n",
    "\n",
    "        kernel = morp.disk(30)\n",
    "        img_local = rank.equalize(image, selem=kernel)\n",
    "        return img_local\n",
    "\n",
    "    def image_normalize(image):\n",
    "        \"\"\"\n",
    "        Normalize images to [0, 1] scale.\n",
    "            Parameters:\n",
    "                image: An np.array compatible with plt.imshow.\n",
    "        \"\"\"\n",
    "        # workaround another weird SAME bug\n",
    "        import numpy as np\n",
    "        image = np.divide(image, 255)\n",
    "        return image\n",
    "    \n",
    "    # workaround another weird SAME bug\n",
    "    import numpy as np\n",
    "    gray_images = list(map(gray_scale, data))\n",
    "    equalized_images = list(map(local_histo_equalize, gray_images))\n",
    "    n_training = data.shape\n",
    "    normalized_images = np.zeros((n_training[0], n_training[1], n_training[2]))\n",
    "    for i, img in enumerate(equalized_images):\n",
    "        normalized_images[i] = image_normalize(img)\n",
    "    normalized_images = normalized_images[..., None]\n",
    "    return normalized_images"
   ]
  },
  {
   "cell_type": "code",
   "execution_count": 11,
   "metadata": {
    "colab": {},
    "colab_type": "code",
    "id": "2TkMteOrLEcR"
   },
   "outputs": [
    {
     "name": "stderr",
     "output_type": "stream",
     "text": [
      "<ipython-input-10-4cc8e00b822e>:69: FutureWarning: `selem` is a deprecated argument name for `equalize`. It will be removed in version 1.0. Please use `footprint` instead.\n",
      "  img_local = rank.equalize(image, selem=kernel)\n"
     ]
    }
   ],
   "source": [
    "X_valid_preprocessed = preprocess(X_valid)\n",
    "X_test_preprocessed = preprocess(X_test)\n",
    "X_train_preprocessed = preprocess(X_train)"
   ]
  },
  {
   "cell_type": "markdown",
   "metadata": {
    "colab_type": "text",
    "id": "GQas32gfLEcW",
    "tags": [
     "same_step_5"
    ]
   },
   "source": [
    "# Train & test model"
   ]
  },
  {
   "cell_type": "markdown",
   "metadata": {
    "colab_type": "text",
    "id": "paiHkUv1NHUV"
   },
   "source": [
    "## Convolutional neural net\n"
   ]
  },
  {
   "cell_type": "code",
   "execution_count": 12,
   "metadata": {
    "colab": {
     "base_uri": "https://localhost:8080/",
     "height": 68
    },
    "colab_type": "code",
    "id": "MXYEnlKnLEcW",
    "outputId": "396224c6-0c75-4697-bcf9-555eb6a73c91"
   },
   "outputs": [
    {
     "name": "stdout",
     "output_type": "stream",
     "text": [
      "Epoch 1/3\n",
      "1088/1088 [==============================] - 15s 13ms/step - loss: 1.3945 - accuracy: 0.6232 - val_loss: 0.2660 - val_accuracy: 0.9170\n",
      "Epoch 2/3\n",
      "1088/1088 [==============================] - 13s 12ms/step - loss: 0.1170 - accuracy: 0.9661 - val_loss: 0.2598 - val_accuracy: 0.9243\n",
      "Epoch 3/3\n",
      "1088/1088 [==============================] - 13s 12ms/step - loss: 0.0524 - accuracy: 0.9843 - val_loss: 0.2703 - val_accuracy: 0.9288\n"
     ]
    },
    {
     "data": {
      "text/plain": [
       "<tensorflow.python.keras.callbacks.History at 0x7fd955e401c0>"
      ]
     },
     "execution_count": 12,
     "metadata": {},
     "output_type": "execute_result"
    }
   ],
   "source": [
    "num_classes=43\n",
    "conv = tf.keras.models.Sequential()\n",
    "conv.add(tf.keras.layers.Conv2D(32, kernel_size=(5, 5), strides=(1, 1), activation='relu', input_shape=(32, 32, 1)))\n",
    "conv.add(tf.keras.layers.MaxPooling2D(pool_size=(2, 2), strides=(2, 2)))\n",
    "conv.add(tf.keras.layers.Conv2D(32, (5, 5), activation='relu'))\n",
    "conv.add(tf.keras.layers.MaxPooling2D(pool_size=(2, 2)))\n",
    "conv.add(tf.keras.layers.Flatten())\n",
    "conv.add(tf.keras.layers.Dense(1000, activation='relu'))\n",
    "conv.add(tf.keras.layers.Dense(units = num_classes, activation='softmax'))\n",
    "\n",
    "conv.compile(optimizer='adam',\n",
    "              loss='sparse_categorical_crossentropy',\n",
    "              metrics=['accuracy'])\n",
    "\n",
    "es = tf.keras.callbacks.EarlyStopping(monitor='acc')\n",
    "\n",
    "conv.fit(X_train_preprocessed, y_train,\n",
    "          epochs=3,\n",
    "          verbose=1,\n",
    "          validation_data=(X_valid_preprocessed, y_valid),\n",
    "          callbacks=[es])"
   ]
  },
  {
   "cell_type": "code",
   "execution_count": 13,
   "metadata": {
    "colab": {},
    "colab_type": "code",
    "id": "woc5FvEJONHa"
   },
   "outputs": [],
   "source": [
    "model = conv"
   ]
  },
  {
   "cell_type": "markdown",
   "metadata": {
    "colab_type": "text",
    "id": "kPMmvjKlLEcd",
    "tags": [
     "same_step_6"
    ]
   },
   "source": [
    "# Save the `SavedModel` model to MLflow\n"
   ]
  },
  {
   "cell_type": "code",
   "execution_count": 14,
   "metadata": {
    "colab": {
     "base_uri": "https://localhost:8080/",
     "height": 238
    },
    "colab_type": "code",
    "id": "ZMXt3Ac9LEce",
    "outputId": "46482c29-efc5-4c09-8cce-73aa60d8b6c2"
   },
   "outputs": [
    {
     "name": "stdout",
     "output_type": "stream",
     "text": [
      "export_path = ./model/1\n",
      "\n",
      "\n",
      "Already saved a model, cleaning up\n",
      "\n",
      "\n",
      "Saved model:\n"
     ]
    },
    {
     "data": {
      "text/plain": [
       "0"
      ]
     },
     "execution_count": 14,
     "metadata": {},
     "output_type": "execute_result"
    }
   ],
   "source": [
    "# Fetch the Keras session and save the model\n",
    "# The signature definition is defined by the input and output tensors,\n",
    "# and stored with the default serving key\n",
    "import tempfile\n",
    "\n",
    "MODEL_DIR = \"./model\"\n",
    "version = 1\n",
    "export_path = os.path.join(MODEL_DIR, str(version))\n",
    "print('export_path = {}\\n'.format(export_path))\n",
    "if os.path.isdir(export_path):\n",
    "  print('\\nAlready saved a model, cleaning up\\n')\n",
    "  os.system(f\"rm -r {export_path}\")\n",
    "\n",
    "tf.saved_model.save(model, export_path)\n",
    "\n",
    "print('\\nSaved model:')\n",
    "os.system(f\"ls -l {export_path}\")"
   ]
  },
  {
   "cell_type": "code",
   "execution_count": 15,
   "metadata": {
    "colab": {
     "base_uri": "https://localhost:8080/",
     "height": 272
    },
    "colab_type": "code",
    "id": "nI3HxuOWLEch",
    "outputId": "ce4dfe85-71d4-4ef8-808f-b991970a4ac5"
   },
   "outputs": [
    {
     "data": {
      "text/plain": [
       "0"
      ]
     },
     "execution_count": 15,
     "metadata": {},
     "output_type": "execute_result"
    }
   ],
   "source": [
    "os.system(f\"saved_model_cli show --dir {export_path} --all\")"
   ]
  },
  {
   "cell_type": "code",
   "execution_count": 16,
   "metadata": {
    "colab": {
     "base_uri": "https://localhost:8080/",
     "height": 34
    },
    "colab_type": "code",
    "id": "fPCFWNhpLEci",
    "outputId": "6c562e35-ea68-4aaa-ab0d-2bbe7338f954"
   },
   "outputs": [
    {
     "data": {
      "text/plain": [
       "'model/classes.json'"
      ]
     },
     "execution_count": 16,
     "metadata": {},
     "output_type": "execute_result"
    }
   ],
   "source": [
    "import shutil\n",
    "\n",
    "shutil.copyfile(\"classes.json\", \"model/classes.json\")\n"
   ]
  },
  {
   "cell_type": "code",
   "execution_count": 17,
   "metadata": {
    "colab": {},
    "colab_type": "code",
    "id": "D1b2oKEgLEcn"
   },
   "outputs": [],
   "source": [
    "# TODO actually save to mlflow"
   ]
  }
 ],
 "metadata": {
  "celltoolbar": "Tags",
  "colab": {
   "collapsed_sections": [],
   "name": "b64roadsigns.ipynb",
   "provenance": [],
   "toc_visible": true,
   "version": "0.3.2"
  },
  "kernelspec": {
   "display_name": "Python 3",
   "language": "python",
   "name": "python3"
  },
  "language_info": {
   "codemirror_mode": {
    "name": "ipython",
    "version": 3
   },
   "file_extension": ".py",
   "mimetype": "text/x-python",
   "name": "python",
   "nbconvert_exporter": "python",
   "pygments_lexer": "ipython3",
   "version": "3.9.5"
  }
 },
 "nbformat": 4,
 "nbformat_minor": 4
}
